{
 "cells": [
  {
   "cell_type": "code",
   "execution_count": null,
   "metadata": {},
   "outputs": [],
   "source": [
    "%matplotlib inline\n",
    "import tables\n",
    "import numpy\n",
    "import os\n",
    "import datetime\n",
    "import matplotlib.pyplot as plt\n",
    "from matplotlib.backends.backend_pdf import PdfPages\n",
    "import matplotlib\n",
    "\n",
    "import glob\n",
    "import sys\n",
    "import matplotlib.gridspec as gridspec\n",
    "import CalculateMeanWinds\n",
    "\n",
    "import imageio\n",
    "from scipy import ndimage"
   ]
  },
  {
   "cell_type": "code",
   "execution_count": null,
   "metadata": {},
   "outputs": [],
   "source": [
    "def MakeCircle(rPixels,x0,y0):\n",
    "#     rPixels = 400.\n",
    "    theta = numpy.linspace(0,2.*numpy.pi,1000)\n",
    "    x = x0+rPixels*numpy.cos(theta)\n",
    "    y = y0+rPixels*numpy.sin(theta)\n",
    "    return x,y"
   ]
  },
  {
   "cell_type": "code",
   "execution_count": null,
   "metadata": {},
   "outputs": [],
   "source": [
    "def MakeQuiverFigures(DecimalHours, ZonalWinds,MeridWinds,radius=0.5):\n",
    "    # can now validate using testmltplots.ipynb\n",
    "#     timeInDegrees = 180-360.*(DecimalHours/24.)\n",
    "#     print 'timeInDegrees', DecimalHours,timeInDegrees\n",
    "#     timeInDegrees = 270.-360.*(DecimalHours/24.)\n",
    "    timeInDegrees = 90.-(360./24.)*DecimalHours\n",
    "    timeInDegrees = timeInDegrees+0.\n",
    "    theta = numpy.deg2rad(timeInDegrees)\n",
    "    radii = numpy.ones(theta.shape[0])*radius\n",
    "    Ue = ZonalWinds\n",
    "    Un = MeridWinds\n",
    "    #test\n",
    "    # Vin = 0.0\n",
    "    # Uin = 1.0\n",
    "    Ux = -numpy.cos(theta)*Un + numpy.sin(theta)*Ue\n",
    "    Uy = numpy.sin(theta)*Un + numpy.cos(theta)*Ue\n",
    "\n",
    "\n",
    "\n",
    "\n",
    "    # plt.show()\n",
    "    return theta,radii, Ux, Uy"
   ]
  },
  {
   "cell_type": "code",
   "execution_count": null,
   "metadata": {},
   "outputs": [],
   "source": [
    "# open Image\n",
    "im1 = imageio.imread('./Mikkelsen_Larsen_1991/ML_Figure4_TidesAlone_105km.png')"
   ]
  },
  {
   "cell_type": "code",
   "execution_count": null,
   "metadata": {},
   "outputs": [],
   "source": [
    "\n",
    "\n",
    "\n",
    "# configuration file for the paper:\n",
    "\n",
    "configfile = './ConfigFileForPaper_02212019.ini'\n",
    "fnames = ['/Users/srkaeppler/Dropbox/research/data/NSF_PFISR_Eregion_NeutralWinds_SharedData/v0.4.5.2018.11.20/MonthlyWinds/201206_Winds.v0.4.5.2018.11.20.h5'\n",
    "        ]\n",
    "CalcMeanWinds = CalculateMeanWinds.CalculateMeanWinds(configfile)\n",
    "TmpDict = CalcMeanWinds.main(fnames)\n",
    "KeySelect = 'slt'\n",
    "ikey = TmpDict.keys()"
   ]
  },
  {
   "cell_type": "code",
   "execution_count": null,
   "metadata": {},
   "outputs": [],
   "source": [
    "\n",
    "mltTimeDict = TmpDict[ikey[0]]['slt']\n",
    "ialt = 5\n",
    "# theta,radii,Vprime,Uprime = MakeQuiverFigures(mltTimeDict['DecimalHoursTimeGrid'], \\\n",
    "#                                                           mltTimeDict['MeanZonalWinds'][0,:,ialt],\\\n",
    "#                                                           mltTimeDict['MeanMeridWinds'][0,:,ialt])\n",
    "\n",
    "n = mltTimeDict['DecimalHoursTimeGrid'].shape[0]\n",
    "ZonalWind = numpy.ones(n)*100.\n",
    "MeridionalWind = numpy.ones(n)#*100.\n",
    "theta,radii,Ux,Uy = MakeQuiverFigures(mltTimeDict['DecimalHoursTimeGrid'], \\\n",
    "                                                           ZonalWind,MeridionalWind)\n",
    "theta,radii,Ux,Uy = MakeQuiverFigures(mltTimeDict['DecimalHoursTimeGrid'], \\\n",
    "                                    mltTimeDict['MeanZonalWinds'][0,:,ialt],\\\n",
    "                                    mltTimeDict['MeanMeridWinds'][0,:,ialt])\n",
    "print mltTimeDict['DecimalHoursTimeGrid']\n",
    "timeInDegrees = 360.*(mltTimeDict['DecimalHoursTimeGrid']/24.)-90\n",
    "print timeInDegrees\n",
    "print theta"
   ]
  },
  {
   "cell_type": "code",
   "execution_count": null,
   "metadata": {},
   "outputs": [],
   "source": [
    "# check the origin\n",
    "# x0 = 966\n",
    "# y0 = 998\n",
    "\n",
    "# theta,radii,Ux,Uy = MakeQuiverFigures(numpy.array([6]),numpy.array([100]),numpy.array([0]))\n",
    "xW = x0+radius*numpy.cos(theta)\n",
    "yW = y0+radius*numpy.sin(theta)\n",
    "plt.figure(figsize=(3,3), dpi=300)\n",
    "plt.imshow(im1)\n",
    "\n",
    "x68,y68 = MakeCircle(radius,x0,y0)\n",
    "scale = 0.75\n",
    "Q = plt.quiver(xW, yW, Ux, Uy,color='red', pivot='tail',scale=scale,units='xy')\n",
    "plt.quiverkey(Q, 0.775, 0.95, 150, r'$150 \\frac{m}{s}$', labelpos='E',fontproperties={'weight': 'bold', 'size':10})\n",
    "plt.xticks([])\n",
    "plt.yticks([])\n",
    "ikey = TmpDict.keys()\n",
    "plt.text(25,100, 'PFISR June %s'%ikey[0][0:4], fontsize=9, color='red')\n",
    "plt.text(25,1950, 'Tides Only', fontsize=9)\n",
    "plt.text(1600,1950, r'105 km'+'\\n'+'0000 UT', fontsize=9)\n",
    "# plt.quiver(250,100, 250,0, color='red')\n",
    "# print 90-360.*(12/24.)\n",
    "plt.tight_layout()\n",
    "# plt.savefig('./FiguresForPaper/LM1991_105km_PFISR%s_TidesAlone.pdf'%ikey[0][0:4])\n",
    "\n",
    "print 90-360.*(12/24.)"
   ]
  },
  {
   "cell_type": "code",
   "execution_count": null,
   "metadata": {},
   "outputs": [],
   "source": []
  },
  {
   "cell_type": "code",
   "execution_count": null,
   "metadata": {},
   "outputs": [],
   "source": []
  }
 ],
 "metadata": {
  "kernelspec": {
   "display_name": "Python 2",
   "language": "python",
   "name": "python2"
  },
  "language_info": {
   "codemirror_mode": {
    "name": "ipython",
    "version": 2
   },
   "file_extension": ".py",
   "mimetype": "text/x-python",
   "name": "python",
   "nbconvert_exporter": "python",
   "pygments_lexer": "ipython2",
   "version": "2.7.14"
  }
 },
 "nbformat": 4,
 "nbformat_minor": 2
}
